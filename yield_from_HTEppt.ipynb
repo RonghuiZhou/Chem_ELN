{
 "cells": [
  {
   "cell_type": "markdown",
   "metadata": {},
   "source": [
    "### Get reaction yield from HTE PPT and Excel files\n",
    "\n",
    "on going: extract reactants, stoichiometric ratio and products information to build a knowledge base"
   ]
  },
  {
   "cell_type": "code",
   "execution_count": 1,
   "metadata": {},
   "outputs": [],
   "source": [
    "# import libraries\n",
    "import re\n",
    "import glob\n",
    "import numpy as np\n",
    "import pandas as pd\n",
    "from pptx import Presentation"
   ]
  },
  {
   "cell_type": "code",
   "execution_count": 2,
   "metadata": {},
   "outputs": [
    {
     "name": "stdout",
     "output_type": "stream",
     "text": [
      "\u001b[1mPPT files:\u001b[0m \n",
      "\t['2019_10_15 - LPAR - MikeHawkins - Suzuki.pptx', '2019_10_16_jdiccian_5_LPAR - Suzuki.pptx', '2019_11_05 - jcompto4_2 - DGAT2 - Tudge Photoredox Minisci .pptx', '2020_07_01_emercad2_692_SIK_Pd CN_report.pptx']. \n",
      "\n",
      "\u001b[1mExcel files:\u001b[0m \n",
      "\t['2019_10_15 - LPAR - MikeHawkins - Suzuki.xlsx', '2019_10_16_jdiccian_5_LPAR - Suzuki.xlsx', '2019_11_05-jcompto4_2 - DGAT2-Tudge photoredox Minisci .xlsx', '2020_07_01_emercad2_692_SIK_Pd C-N.xlsx'].\n"
     ]
    }
   ],
   "source": [
    "# get the list of pptx and xlsx files in current directory\n",
    "ppt_lst = glob.glob('*.pptx')\n",
    "xlsx_lst = glob.glob('*.xlsx')\n",
    "\n",
    "print(f'\\033[1mPPT files:\\033[0m \\n\\t{ppt_lst}. \\n\\n\\033[1mExcel files:\\033[0m \\n\\t{xlsx_lst}.')"
   ]
  },
  {
   "cell_type": "code",
   "execution_count": 3,
   "metadata": {},
   "outputs": [],
   "source": [
    "# define a funciton to extract yield from pptx files\n",
    "\n",
    "def get_yield(ppt):\n",
    "    \"\"\"\n",
    "    Get yield from HTE pptx files\n",
    "    \n",
    "    INPUT: pptx filepath, or filename if in the same directory\n",
    "    \n",
    "    \"\"\"\n",
    "    \n",
    "    # define a list to hold all text from the pptx\n",
    "    exp_text = []    \n",
    "    \n",
    "    # initiate the Presentaiton function\n",
    "    prs = Presentation(ppt)\n",
    "\n",
    "    # loop through all slides and look for texts, append to exp_text list\n",
    "    for slide in prs.slides:\n",
    "        for shape in slide.shapes:\n",
    "            if hasattr(shape, 'text'):\n",
    "                exp_text.append(shape.text)\n",
    "\n",
    "    # slice the strings containing 'yield'                \n",
    "    yield_text = [text for text in exp_text if 'yield' in text.lower()]\n",
    "    \n",
    "    try:\n",
    "        # find the yield value which ends with '%'\n",
    "        yield_value = re.findall(r'\\d+%', ' '.join(yield_text))\n",
    "    except:\n",
    "        # assign yield = 0 if not available\n",
    "        yield_value = 0\n",
    "\n",
    "    return yield_value"
   ]
  },
  {
   "cell_type": "code",
   "execution_count": 4,
   "metadata": {},
   "outputs": [
    {
     "data": {
      "text/plain": [
       "{'2019_10_15 - LPAR - MikeHawkins - Suzuki.pptx': ['80%'],\n",
       " '2019_10_16_jdiccian_5_LPAR - Suzuki.pptx': ['87%'],\n",
       " '2019_11_05 - jcompto4_2 - DGAT2 - Tudge Photoredox Minisci .pptx': ['35%'],\n",
       " '2020_07_01_emercad2_692_SIK_Pd CN_report.pptx': ['30%']}"
      ]
     },
     "execution_count": 4,
     "metadata": {},
     "output_type": "execute_result"
    }
   ],
   "source": [
    "# define a yield dictionary to hold pptxfile:yield pairs\n",
    "yield_dict = {}\n",
    "\n",
    "# loop through all HTE pptx files in current directory\n",
    "for ppt in ppt_lst:\n",
    "    \n",
    "    # get the yield\n",
    "    yield_value = get_yield(ppt)\n",
    "    \n",
    "    # add to the dictionary to correlate with pptx filename\n",
    "    yield_dict[ppt] = yield_value  \n",
    "\n",
    "# print the yield dictionary\n",
    "yield_dict"
   ]
  },
  {
   "cell_type": "code",
   "execution_count": 5,
   "metadata": {},
   "outputs": [],
   "source": [
    "def get_reaction_df(xlsx):\n",
    "    \"\"\"\n",
    "    Get xlsx dataframe from HTE xlsx files\n",
    "    \n",
    "    INPUT: xlsx filepath, or filename if in the same directory\n",
    "    \n",
    "    OUTPUT: xlsx dataframe\n",
    "    \n",
    "    \"\"\"    \n",
    "    df = pd.read_excel(xlsx, sheet_name = 'Start')\n",
    "    \n",
    "    return df"
   ]
  },
  {
   "cell_type": "code",
   "execution_count": 6,
   "metadata": {},
   "outputs": [],
   "source": [
    "# define a funciton to extract ELN from the dataframe from xlsx files\n",
    "def get_eln(df_xlsx):\n",
    "\n",
    "    \"\"\"\n",
    "    Get ELN from HTE xlsx dataframe\n",
    "    \n",
    "    INPUT: xlsx dataframe\n",
    "    \n",
    "    \"\"\"\n",
    "    # import 'Start' sheet from the file \n",
    "    df = df_xlsx\n",
    "    \n",
    "    # found inconsistent locations across different files, some in D3, some in E3\n",
    "    # get bot D3 and E3 and get the one other than 'Experiment Notebook Number'\n",
    "    eln = [df.iloc[1,3], df.iloc[1,4]]\n",
    "    eln = [x for x in eln if not str(x).startswith('Experiment')]\n",
    "\n",
    "    # if there is no ELN, name it 'TBD'\n",
    "    if eln == [np.nan]:\n",
    "        eln = 'TBD'\n",
    "    \n",
    "    else:\n",
    "        eln = eln[0]\n",
    "        \n",
    "    return eln"
   ]
  },
  {
   "cell_type": "code",
   "execution_count": 7,
   "metadata": {},
   "outputs": [
    {
     "data": {
      "text/plain": [
       "{'TBD': '2019_10_15 - LPAR - MikeHawkins - Suzuki.xlsx',\n",
       " 'jdiccian_5': '2019_10_16_jdiccian_5_LPAR - Suzuki.xlsx',\n",
       " 'jcompto4_2': '2019_11_05-jcompto4_2 - DGAT2-Tudge photoredox Minisci .xlsx',\n",
       " 'emercad2_692': '2020_07_01_emercad2_692_SIK_Pd C-N.xlsx'}"
      ]
     },
     "execution_count": 7,
     "metadata": {},
     "output_type": "execute_result"
    }
   ],
   "source": [
    "# define an ELN dictionary to hold ELN: xlsxfile pairs\n",
    "eln_dict = {}\n",
    "\n",
    "# loop through all HTE xlsx files in current directory\n",
    "for xlsx in xlsx_lst:\n",
    "    \n",
    "    df_xlsx = get_reaction_df(xlsx)\n",
    "    \n",
    "    # get the ELN\n",
    "    eln = get_eln(df_xlsx)\n",
    "\n",
    "    # add to the dictionary to correlate with xlsx filename\n",
    "    eln_dict[eln] = xlsx\n",
    "\n",
    "# print the ELN dictionary\n",
    "eln_dict    "
   ]
  },
  {
   "cell_type": "code",
   "execution_count": 8,
   "metadata": {},
   "outputs": [
    {
     "data": {
      "text/plain": [
       "{'jdiccian_5': ['87%'],\n",
       " '2019_10_15 - LPAR - MikeHawkins - Suzuki.xlsx': ['80%'],\n",
       " 'jcompto4_2': ['35%'],\n",
       " 'emercad2_692': ['30%']}"
      ]
     },
     "execution_count": 8,
     "metadata": {},
     "output_type": "execute_result"
    }
   ],
   "source": [
    "# define a funciton to combine ELN and yield together\n",
    "\n",
    "def get_eln_yield(eln_dict, yield_dict):\n",
    "    \"\"\"\n",
    "    Get ELN: yield pair from eln_dict and yield_dict\n",
    "    \n",
    "    INPUT: \n",
    "    eln_dict:        ELN: xlsxfile dictionary\n",
    "    yield_dict:      pptxfile:yield dictionary       \n",
    "    \n",
    "    \"\"\"\n",
    "    # initiate an empty dictionary\n",
    "    eln_yield = {}\n",
    "\n",
    "    # loop through the ELN dictionary\n",
    "    for eln, xlsx in eln_dict.items():\n",
    "\n",
    "        # loop through the yield dictionary keys\n",
    "        for ppt in yield_dict.keys():\n",
    "\n",
    "            # if ELN is part of the ppt filename\n",
    "            if eln in ppt:           \n",
    "                \n",
    "                # let ELN be the key of the new ELN-yield dictionary\n",
    "                # let yield be the value of the new ELN-yield dictionary\n",
    "                eln_yield[eln] = yield_dict[ppt]\n",
    "            \n",
    "            # if ELN is 'TBD', use the full xlsx filename\n",
    "            elif eln == 'TBD':\n",
    "                \n",
    "                # get the pptx filename by changing the filetype from .xlsx to .pptx\n",
    "                pptfile = xlsx.split('.')[0] + '.pptx'\n",
    "                \n",
    "                # let xlsx filename be the key of the new ELN-yield dictionary\n",
    "                # let yield be the value of the new ELN-yield dictionary\n",
    "                eln_yield[xlsx] = yield_dict[pptfile]\n",
    "            \n",
    "        \n",
    "    return dict(sorted(eln_yield.items(), key=lambda kv: kv[1], reverse=True))\n",
    "\n",
    "eln_yield = get_eln_yield(eln_dict, yield_dict)\n",
    "eln_yield"
   ]
  },
  {
   "cell_type": "code",
   "execution_count": 9,
   "metadata": {},
   "outputs": [
    {
     "data": {
      "text/html": [
       "<div>\n",
       "<style scoped>\n",
       "    .dataframe tbody tr th:only-of-type {\n",
       "        vertical-align: middle;\n",
       "    }\n",
       "\n",
       "    .dataframe tbody tr th {\n",
       "        vertical-align: top;\n",
       "    }\n",
       "\n",
       "    .dataframe thead th {\n",
       "        text-align: right;\n",
       "    }\n",
       "</style>\n",
       "<table border=\"1\" class=\"dataframe\">\n",
       "  <thead>\n",
       "    <tr style=\"text-align: right;\">\n",
       "      <th></th>\n",
       "      <th>ELN</th>\n",
       "      <th>Yield</th>\n",
       "    </tr>\n",
       "  </thead>\n",
       "  <tbody>\n",
       "    <tr>\n",
       "      <th>0</th>\n",
       "      <td>jdiccian_5</td>\n",
       "      <td>87%</td>\n",
       "    </tr>\n",
       "    <tr>\n",
       "      <th>1</th>\n",
       "      <td>2019_10_15 - LPAR - MikeHawkins - Suzuki.xlsx</td>\n",
       "      <td>80%</td>\n",
       "    </tr>\n",
       "    <tr>\n",
       "      <th>2</th>\n",
       "      <td>jcompto4_2</td>\n",
       "      <td>35%</td>\n",
       "    </tr>\n",
       "    <tr>\n",
       "      <th>3</th>\n",
       "      <td>emercad2_692</td>\n",
       "      <td>30%</td>\n",
       "    </tr>\n",
       "  </tbody>\n",
       "</table>\n",
       "</div>"
      ],
      "text/plain": [
       "                                             ELN Yield\n",
       "0                                     jdiccian_5   87%\n",
       "1  2019_10_15 - LPAR - MikeHawkins - Suzuki.xlsx   80%\n",
       "2                                     jcompto4_2   35%\n",
       "3                                   emercad2_692   30%"
      ]
     },
     "execution_count": 9,
     "metadata": {},
     "output_type": "execute_result"
    }
   ],
   "source": [
    "df = pd.DataFrame(eln_yield).T\n",
    "df.reset_index(inplace=True)\n",
    "df.columns=['ELN','Yield']\n",
    "df"
   ]
  },
  {
   "cell_type": "code",
   "execution_count": 10,
   "metadata": {},
   "outputs": [
    {
     "data": {
      "text/html": [
       "<div>\n",
       "<style scoped>\n",
       "    .dataframe tbody tr th:only-of-type {\n",
       "        vertical-align: middle;\n",
       "    }\n",
       "\n",
       "    .dataframe tbody tr th {\n",
       "        vertical-align: top;\n",
       "    }\n",
       "\n",
       "    .dataframe thead th {\n",
       "        text-align: right;\n",
       "    }\n",
       "</style>\n",
       "<table border=\"1\" class=\"dataframe\">\n",
       "  <thead>\n",
       "    <tr style=\"text-align: right;\">\n",
       "      <th></th>\n",
       "      <th>ELN</th>\n",
       "      <th>Yield</th>\n",
       "    </tr>\n",
       "  </thead>\n",
       "  <tbody>\n",
       "    <tr>\n",
       "      <th>1</th>\n",
       "      <td>2019_10_15 - LPAR - MikeHawkins - Suzuki.xlsx</td>\n",
       "      <td>80%</td>\n",
       "    </tr>\n",
       "    <tr>\n",
       "      <th>3</th>\n",
       "      <td>emercad2_692</td>\n",
       "      <td>30%</td>\n",
       "    </tr>\n",
       "    <tr>\n",
       "      <th>2</th>\n",
       "      <td>jcompto4_2</td>\n",
       "      <td>35%</td>\n",
       "    </tr>\n",
       "    <tr>\n",
       "      <th>0</th>\n",
       "      <td>jdiccian_5</td>\n",
       "      <td>87%</td>\n",
       "    </tr>\n",
       "  </tbody>\n",
       "</table>\n",
       "</div>"
      ],
      "text/plain": [
       "                                             ELN Yield\n",
       "1  2019_10_15 - LPAR - MikeHawkins - Suzuki.xlsx   80%\n",
       "3                                   emercad2_692   30%\n",
       "2                                     jcompto4_2   35%\n",
       "0                                     jdiccian_5   87%"
      ]
     },
     "execution_count": 10,
     "metadata": {},
     "output_type": "execute_result"
    }
   ],
   "source": [
    "df.sort_values(by='ELN')"
   ]
  },
  {
   "cell_type": "code",
   "execution_count": 11,
   "metadata": {},
   "outputs": [
    {
     "data": {
      "text/html": [
       "<div>\n",
       "<style scoped>\n",
       "    .dataframe tbody tr th:only-of-type {\n",
       "        vertical-align: middle;\n",
       "    }\n",
       "\n",
       "    .dataframe tbody tr th {\n",
       "        vertical-align: top;\n",
       "    }\n",
       "\n",
       "    .dataframe thead th {\n",
       "        text-align: right;\n",
       "    }\n",
       "</style>\n",
       "<table border=\"1\" class=\"dataframe\">\n",
       "  <thead>\n",
       "    <tr style=\"text-align: right;\">\n",
       "      <th></th>\n",
       "      <th>ELN</th>\n",
       "      <th>Yield</th>\n",
       "    </tr>\n",
       "  </thead>\n",
       "  <tbody>\n",
       "    <tr>\n",
       "      <th>0</th>\n",
       "      <td>jdiccian_5</td>\n",
       "      <td>87%</td>\n",
       "    </tr>\n",
       "    <tr>\n",
       "      <th>1</th>\n",
       "      <td>2019_10_15 - LPAR - MikeHawkins - Suzuki.xlsx</td>\n",
       "      <td>80%</td>\n",
       "    </tr>\n",
       "    <tr>\n",
       "      <th>2</th>\n",
       "      <td>jcompto4_2</td>\n",
       "      <td>35%</td>\n",
       "    </tr>\n",
       "    <tr>\n",
       "      <th>3</th>\n",
       "      <td>emercad2_692</td>\n",
       "      <td>30%</td>\n",
       "    </tr>\n",
       "  </tbody>\n",
       "</table>\n",
       "</div>"
      ],
      "text/plain": [
       "                                             ELN Yield\n",
       "0                                     jdiccian_5   87%\n",
       "1  2019_10_15 - LPAR - MikeHawkins - Suzuki.xlsx   80%\n",
       "2                                     jcompto4_2   35%\n",
       "3                                   emercad2_692   30%"
      ]
     },
     "execution_count": 11,
     "metadata": {},
     "output_type": "execute_result"
    }
   ],
   "source": [
    "df.sort_values(by='Yield', ascending = False)"
   ]
  },
  {
   "cell_type": "code",
   "execution_count": null,
   "metadata": {},
   "outputs": [],
   "source": []
  }
 ],
 "metadata": {
  "kernelspec": {
   "display_name": "Python 3",
   "language": "python",
   "name": "python3"
  },
  "language_info": {
   "codemirror_mode": {
    "name": "ipython",
    "version": 3
   },
   "file_extension": ".py",
   "mimetype": "text/x-python",
   "name": "python",
   "nbconvert_exporter": "python",
   "pygments_lexer": "ipython3",
   "version": "3.7.6"
  }
 },
 "nbformat": 4,
 "nbformat_minor": 4
}
